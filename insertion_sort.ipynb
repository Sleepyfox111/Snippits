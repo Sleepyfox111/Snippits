{
  "nbformat": 4,
  "nbformat_minor": 0,
  "metadata": {
    "colab": {
      "name": "insertion sort",
      "provenance": [],
      "authorship_tag": "ABX9TyPpz3+IA9xdmlYYpTpsyB8V",
      "include_colab_link": true
    },
    "kernelspec": {
      "name": "python3",
      "display_name": "Python 3"
    },
    "language_info": {
      "name": "python"
    }
  },
  "cells": [
    {
      "cell_type": "markdown",
      "metadata": {
        "id": "view-in-github",
        "colab_type": "text"
      },
      "source": [
        "<a href=\"https://colab.research.google.com/github/Sleepyfox111/Snippits-2/blob/main/insertion_sort.ipynb\" target=\"_parent\"><img src=\"https://colab.research.google.com/assets/colab-badge.svg\" alt=\"Open In Colab\"/></a>"
      ]
    },
    {
      "cell_type": "code",
      "execution_count": null,
      "metadata": {
        "id": "1O01HVETil1U"
      },
      "outputs": [],
      "source": [
        "list = [10, 50, 23, 7, 34, 45, 40, 6, 28, 26, 41, 32, 46, 2, 17, 12, 42, 5, 31, 11, 36, 35, 21, 33, 24, 22, 1, 38, 29, 18, 43, 3, 49, 15, 44, 14, 20, 30, 13, 27, 37, 9, 47, 8, 48, 4, 25, 16, 39, 19]\n",
        "print(list)\n",
        "\n",
        "for i in range(1, len(list)):\n",
        "  current = list[i]\n",
        "  position = i\n",
        "  while position > 0 and list[position-1] > current:\n",
        "    list[position] = list [position-1]\n",
        "    position = position-1 \n",
        "  list[position] = current\n",
        "\n",
        "  print(list)"
      ]
    }
  ]
}